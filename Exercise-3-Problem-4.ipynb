{
 "cells": [
  {
   "cell_type": "markdown",
   "metadata": {},
   "source": [
    "## Problem 4: What is the closest shopping center from your home / work? (5 points)\n",
    "\n",
    "In the last problem you should find out the closest shopping center from two different locations a) your home and b) work place. \n",
    "\n",
    "**Steps**:\n",
    "\n",
    " - Create a txt-file called `activity_locations.txt` (use same formatting as in Problem 1) with two columns:\n",
    "    - `id`: unique id for each row\n",
    "    - `addr`:  address of your work and home (or any two addresses in the Helsinki Region.)\n",
    "    \n",
    "Save the text file into this repository.\n",
    "    \n",
    " - Read those addresses using pandas and geocode the addresses.\n",
    " - Find out the nearest shopping center to these points using Shapely `nearest_points`.\n",
    " - Print out the name of the shopping center that is nearest to a) home and b) work. For example: `Shopping center closest to home: REDI`."
   ]
  },
  {
   "cell_type": "code",
   "execution_count": 1,
   "metadata": {
    "deletable": false,
    "nbgrader": {
     "cell_type": "code",
     "checksum": "f8d9bb1491a5675d77264cebbf529f88",
     "grade": false,
     "grade_id": "read_data",
     "locked": false,
     "schema_version": 3,
     "solution": true
    }
   },
   "outputs": [],
   "source": [
    "import pandas as pd\n",
    "import geopandas as gpd\n",
    "from shapely.geometry import Point\n",
    "from geopandas.tools import geocode\n",
    "import os\n",
    "from shapely.ops import nearest_points"
   ]
  },
  {
   "cell_type": "code",
   "execution_count": 2,
   "metadata": {},
   "outputs": [
    {
     "name": "stdout",
     "output_type": "stream",
     "text": [
      "id;addr\n",
      "0; Yliopistonkatu 4, 00100 Helsinki, Finland\n",
      "1;Ullanlinna Helsinki Finland\n"
     ]
    }
   ],
   "source": [
    "#create a txt file\n",
    "line0=\"id;addr\\n\"\n",
    "line1=\"0; Yliopistonkatu 4, 00100 Helsinki, Finland\\n\"\n",
    "line2=\"1;Ullanlinna Helsinki Finland\"\n",
    "# read in input files\n",
    "f = open(r\"C:\\Users\\USER PC\\Documents\\HelsinkiUni\\exercise-3-LeilaMemoi\\activity_locations.txt\",\"w\",encoding=\"utf-8\")\n",
    "f.writelines([line0,line1,line2])\n",
    "f=open(r\"C:\\Users\\USER PC\\Documents\\HelsinkiUni\\exercise-3-LeilaMemoi\\activity_locations.txt\",\"r\")\n",
    "print(f.read())\n",
    "f.close()"
   ]
  },
  {
   "cell_type": "code",
   "execution_count": 3,
   "metadata": {},
   "outputs": [
    {
     "data": {
      "text/plain": [
       "pandas.core.frame.DataFrame"
      ]
     },
     "execution_count": 3,
     "metadata": {},
     "output_type": "execute_result"
    }
   ],
   "source": [
    "data1=pd.read_csv(r\"C:\\Users\\USER PC\\Documents\\HelsinkiUni\\exercise-3-LeilaMemoi\\activity_locations.txt\",sep=\";\")\n",
    "type(data1)"
   ]
  },
  {
   "cell_type": "code",
   "execution_count": 4,
   "metadata": {
    "deletable": false,
    "nbgrader": {
     "cell_type": "code",
     "checksum": "cde51574e6cd404266ead2aad7ac5938",
     "grade": false,
     "grade_id": "geocode",
     "locked": false,
     "schema_version": 3,
     "solution": true,
     "task": false
    }
   },
   "outputs": [
    {
     "name": "stdout",
     "output_type": "stream",
     "text": [
      "                    geometry  \\\n",
      "0  POINT (24.94874 60.16972)   \n",
      "1  POINT (24.94940 60.15871)   \n",
      "\n",
      "                                             address  \n",
      "0  UniSport, Kluuvi, 4, Yliopistonkatu, Kaisaniem...  \n",
      "1  Ullanlinna, Eteläinen suurpiiri, Helsinki, Hel...  \n"
     ]
    }
   ],
   "source": [
    "# Geocode activity locations\n",
    "geo2= geocode(data1[\"addr\"],provider=\"nominatim\",user_agent=\"app\")\n",
    "print(geo2)"
   ]
  },
  {
   "cell_type": "code",
   "execution_count": 5,
   "metadata": {
    "deletable": false,
    "nbgrader": {
     "cell_type": "code",
     "checksum": "866e8fe33cb5b2e5f7d3fbecd76130f1",
     "grade": false,
     "grade_id": "check_crs",
     "locked": false,
     "schema_version": 3,
     "solution": true,
     "task": false
    }
   },
   "outputs": [
    {
     "data": {
      "text/plain": [
       "<Geographic 2D CRS: EPSG:4326>\n",
       "Name: WGS 84\n",
       "Axis Info [ellipsoidal]:\n",
       "- Lat[north]: Geodetic latitude (degree)\n",
       "- Lon[east]: Geodetic longitude (degree)\n",
       "Area of Use:\n",
       "- name: World.\n",
       "- bounds: (-180.0, -90.0, 180.0, 90.0)\n",
       "Datum: World Geodetic System 1984 ensemble\n",
       "- Ellipsoid: WGS 84\n",
       "- Prime Meridian: Greenwich"
      ]
     },
     "execution_count": 5,
     "metadata": {},
     "output_type": "execute_result"
    }
   ],
   "source": [
    "# Check coordinate reference system information (re-project/define if needed)\n",
    "geo2.crs\n"
   ]
  },
  {
   "cell_type": "code",
   "execution_count": 6,
   "metadata": {},
   "outputs": [],
   "source": [
    "geo2=geo2.to_crs(epsg=3879)"
   ]
  },
  {
   "cell_type": "code",
   "execution_count": 7,
   "metadata": {
    "deletable": false,
    "nbgrader": {
     "cell_type": "code",
     "checksum": "5c1d055ae749e65f0c63e487b074ad21",
     "grade": false,
     "grade_id": "nearest_points",
     "locked": false,
     "schema_version": 3,
     "solution": true,
     "task": false
    }
   },
   "outputs": [
    {
     "data": {
      "text/html": [
       "<div>\n",
       "<style scoped>\n",
       "    .dataframe tbody tr th:only-of-type {\n",
       "        vertical-align: middle;\n",
       "    }\n",
       "\n",
       "    .dataframe tbody tr th {\n",
       "        vertical-align: top;\n",
       "    }\n",
       "\n",
       "    .dataframe thead th {\n",
       "        text-align: right;\n",
       "    }\n",
       "</style>\n",
       "<table border=\"1\" class=\"dataframe\">\n",
       "  <thead>\n",
       "    <tr style=\"text-align: right;\">\n",
       "      <th></th>\n",
       "      <th>geometry</th>\n",
       "      <th>address</th>\n",
       "      <th>name</th>\n",
       "    </tr>\n",
       "  </thead>\n",
       "  <tbody>\n",
       "    <tr>\n",
       "      <th>0</th>\n",
       "      <td>POINT (25.08294 60.21170)</td>\n",
       "      <td>Kauppakeskus Itis, 1-7, Itäkatu, Itäkeskus, Va...</td>\n",
       "      <td>Itis</td>\n",
       "    </tr>\n",
       "    <tr>\n",
       "      <th>1</th>\n",
       "      <td>POINT (24.93828 60.16878)</td>\n",
       "      <td>Salaattiasema, 14-20, Mannerheimintie, Keskust...</td>\n",
       "      <td>Forum</td>\n",
       "    </tr>\n",
       "    <tr>\n",
       "      <th>2</th>\n",
       "      <td>POINT (24.73805 60.16022)</td>\n",
       "      <td>Captain Corvus, 11, Piispansilta, Matinkylä, S...</td>\n",
       "      <td>Iso-omena</td>\n",
       "    </tr>\n",
       "    <tr>\n",
       "      <th>3</th>\n",
       "      <td>POINT (24.81042 60.21752)</td>\n",
       "      <td>Lasten kappeli Arkki, 3-9, Leppävaarankatu, Sä...</td>\n",
       "      <td>Sello</td>\n",
       "    </tr>\n",
       "    <tr>\n",
       "      <th>4</th>\n",
       "      <td>POINT (24.96282 60.29245)</td>\n",
       "      <td>Stockmann, 3, Vantaanportinkatu, Vantaanportti...</td>\n",
       "      <td>Jumbo</td>\n",
       "    </tr>\n",
       "    <tr>\n",
       "      <th>5</th>\n",
       "      <td>POINT (24.97904 60.18702)</td>\n",
       "      <td>Silta, 5, Hermannin rantatie, Verkkosaari, Kal...</td>\n",
       "      <td>REDI</td>\n",
       "    </tr>\n",
       "    <tr>\n",
       "      <th>6</th>\n",
       "      <td>POINT (24.93026 60.19846)</td>\n",
       "      <td>Mall of Tripla, 1, Fredikanterassi, Keski-Pasi...</td>\n",
       "      <td>Tripla</td>\n",
       "    </tr>\n",
       "  </tbody>\n",
       "</table>\n",
       "</div>"
      ],
      "text/plain": [
       "                    geometry  \\\n",
       "0  POINT (25.08294 60.21170)   \n",
       "1  POINT (24.93828 60.16878)   \n",
       "2  POINT (24.73805 60.16022)   \n",
       "3  POINT (24.81042 60.21752)   \n",
       "4  POINT (24.96282 60.29245)   \n",
       "5  POINT (24.97904 60.18702)   \n",
       "6  POINT (24.93026 60.19846)   \n",
       "\n",
       "                                             address       name  \n",
       "0  Kauppakeskus Itis, 1-7, Itäkatu, Itäkeskus, Va...       Itis  \n",
       "1  Salaattiasema, 14-20, Mannerheimintie, Keskust...      Forum  \n",
       "2  Captain Corvus, 11, Piispansilta, Matinkylä, S...  Iso-omena  \n",
       "3  Lasten kappeli Arkki, 3-9, Leppävaarankatu, Sä...      Sello  \n",
       "4  Stockmann, 3, Vantaanportinkatu, Vantaanportti...      Jumbo  \n",
       "5  Silta, 5, Hermannin rantatie, Verkkosaari, Kal...       REDI  \n",
       "6  Mall of Tripla, 1, Fredikanterassi, Keski-Pasi...     Tripla  "
      ]
     },
     "execution_count": 7,
     "metadata": {},
     "output_type": "execute_result"
    }
   ],
   "source": [
    "# Find the closest shopping center for each activity location (closest shopping center from\n",
    "# and closest shopping center from work) and print out the results:\n",
    "data2=pd.read_csv(r\"C:\\Users\\USER PC\\Documents\\HelsinkiUni\\exercise-3-LeilaMemoi\\shopping_centers.txt\",sep=\";\")\n",
    "shopping_centres= geocode(data2[\"addr\"],provider=\"nominatim\",user_agent=\"app\")\n",
    "shopping_centres =shopping_centres.merge(data2, left_index=True, right_index=True, how='inner')\n",
    "shopping_centres=shopping_centres[[\"geometry\",\"address\",\"name\"]]\n",
    "shopping_centres"
   ]
  },
  {
   "cell_type": "code",
   "execution_count": 8,
   "metadata": {},
   "outputs": [],
   "source": [
    "def get_nearest_values(row, destination, point_column='geometry', value_column=\"name\"):\n",
    "    \"\"\"Find the nearest point and return the corresponding value from specified value column.\"\"\"\n",
    "    \n",
    "    # Create an union of the other GeoDataFrame's geometries:\n",
    "    destination_unary = destination[\"geometry\"].unary_union\n",
    "    \n",
    "    # Find the nearest points\n",
    "    nearest_geoms = nearest_points(row[point_column], destination_unary)\n",
    "    \n",
    "    # Get corresponding values from the other df\n",
    "    nearest_data = destination.loc[destination[\"geometry\"] == nearest_geoms[1]]\n",
    "    \n",
    "    nearest_value = nearest_data[value_column].values[0]\n",
    "    \n",
    "    return nearest_value"
   ]
  },
  {
   "cell_type": "code",
   "execution_count": 9,
   "metadata": {},
   "outputs": [
    {
     "data": {
      "text/html": [
       "<div>\n",
       "<style scoped>\n",
       "    .dataframe tbody tr th:only-of-type {\n",
       "        vertical-align: middle;\n",
       "    }\n",
       "\n",
       "    .dataframe tbody tr th {\n",
       "        vertical-align: top;\n",
       "    }\n",
       "\n",
       "    .dataframe thead th {\n",
       "        text-align: right;\n",
       "    }\n",
       "</style>\n",
       "<table border=\"1\" class=\"dataframe\">\n",
       "  <thead>\n",
       "    <tr style=\"text-align: right;\">\n",
       "      <th></th>\n",
       "      <th>geometry</th>\n",
       "      <th>address</th>\n",
       "      <th>nearest_location</th>\n",
       "    </tr>\n",
       "  </thead>\n",
       "  <tbody>\n",
       "    <tr>\n",
       "      <th>0</th>\n",
       "      <td>POINT (25497154.366 6672982.716)</td>\n",
       "      <td>UniSport, Kluuvi, 4, Yliopistonkatu, Kaisaniem...</td>\n",
       "      <td>Itis</td>\n",
       "    </tr>\n",
       "    <tr>\n",
       "      <th>1</th>\n",
       "      <td>POINT (25497190.277 6671756.866)</td>\n",
       "      <td>Ullanlinna, Eteläinen suurpiiri, Helsinki, Hel...</td>\n",
       "      <td>Itis</td>\n",
       "    </tr>\n",
       "  </tbody>\n",
       "</table>\n",
       "</div>"
      ],
      "text/plain": [
       "                           geometry  \\\n",
       "0  POINT (25497154.366 6672982.716)   \n",
       "1  POINT (25497190.277 6671756.866)   \n",
       "\n",
       "                                             address nearest_location  \n",
       "0  UniSport, Kluuvi, 4, Yliopistonkatu, Kaisaniem...             Itis  \n",
       "1  Ullanlinna, Eteläinen suurpiiri, Helsinki, Hel...             Itis  "
      ]
     },
     "execution_count": 9,
     "metadata": {},
     "output_type": "execute_result"
    }
   ],
   "source": [
    "geo2[\"nearest_location\"] = geo2.apply(get_nearest_values, destination=shopping_centres, point_column=\"geometry\", axis=1)\n",
    "geo2"
   ]
  },
  {
   "cell_type": "code",
   "execution_count": 10,
   "metadata": {},
   "outputs": [
    {
     "name": "stdout",
     "output_type": "stream",
     "text": [
      "Shopping center closest to home: Itis\n",
      "Shopping centre closest to work: Itis\n"
     ]
    }
   ],
   "source": [
    "print(\"Shopping center closest to home:\", geo2.iloc[-1,-1])\n",
    "print(\"Shopping centre closest to work:\", geo2.iloc[0,-1])"
   ]
  },
  {
   "cell_type": "markdown",
   "metadata": {},
   "source": [
    "Can you think of other application cases for the nearest neighbour analysis?"
   ]
  },
  {
   "cell_type": "code",
   "execution_count": null,
   "metadata": {},
   "outputs": [],
   "source": []
  },
  {
   "cell_type": "code",
   "execution_count": null,
   "metadata": {
    "deletable": false,
    "nbgrader": {
     "cell_type": "code",
     "checksum": "9097d06476510270641179f9a799bad7",
     "grade": true,
     "grade_id": "problem_4_check",
     "locked": false,
     "points": 5,
     "schema_version": 3,
     "solution": true
    }
   },
   "outputs": [],
   "source": []
  }
 ],
 "metadata": {
  "anaconda-cloud": {},
  "kernelspec": {
   "display_name": "Python 3 (ipykernel)",
   "language": "python",
   "name": "python3"
  },
  "language_info": {
   "codemirror_mode": {
    "name": "ipython",
    "version": 3
   },
   "file_extension": ".py",
   "mimetype": "text/x-python",
   "name": "python",
   "nbconvert_exporter": "python",
   "pygments_lexer": "ipython3",
   "version": "3.10.0"
  }
 },
 "nbformat": 4,
 "nbformat_minor": 4
}
